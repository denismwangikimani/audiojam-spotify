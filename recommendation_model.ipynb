{
 "cells": [
  {
   "cell_type": "code",
   "execution_count": 3,
   "metadata": {},
   "outputs": [
    {
     "name": "stdout",
     "output_type": "stream",
     "text": [
      "Collecting pandas\n",
      "  Using cached pandas-2.2.3-cp312-cp312-win_amd64.whl.metadata (19 kB)\n",
      "Collecting numpy>=1.26.0 (from pandas)\n",
      "  Using cached numpy-2.1.2-cp312-cp312-win_amd64.whl.metadata (59 kB)\n",
      "Requirement already satisfied: python-dateutil>=2.8.2 in c:\\users\\hp\\onedrive\\documents\\audiojam-1\\audiojam-spotify\\audiojam-env\\lib\\site-packages (from pandas) (2.9.0.post0)\n",
      "Collecting pytz>=2020.1 (from pandas)\n",
      "  Using cached pytz-2024.2-py2.py3-none-any.whl.metadata (22 kB)\n",
      "Collecting tzdata>=2022.7 (from pandas)\n",
      "  Using cached tzdata-2024.2-py2.py3-none-any.whl.metadata (1.4 kB)\n",
      "Requirement already satisfied: six>=1.5 in c:\\users\\hp\\onedrive\\documents\\audiojam-1\\audiojam-spotify\\audiojam-env\\lib\\site-packages (from python-dateutil>=2.8.2->pandas) (1.16.0)\n",
      "Using cached pandas-2.2.3-cp312-cp312-win_amd64.whl (11.5 MB)\n",
      "Using cached numpy-2.1.2-cp312-cp312-win_amd64.whl (12.6 MB)\n",
      "Using cached pytz-2024.2-py2.py3-none-any.whl (508 kB)\n",
      "Using cached tzdata-2024.2-py2.py3-none-any.whl (346 kB)\n",
      "Installing collected packages: pytz, tzdata, numpy, pandas\n",
      "Note: you may need to restart the kernel to use updated packages.\n"
     ]
    },
    {
     "name": "stderr",
     "output_type": "stream",
     "text": [
      "ERROR: Could not install packages due to an OSError: [WinError 32] The process cannot access the file because it is being used by another process: 'c:\\\\Users\\\\hp\\\\OneDrive\\\\Documents\\\\audiojam-1\\\\audiojam-spotify\\\\audiojam-env\\\\Lib\\\\site-packages\\\\numpy\\\\_core\\\\tests\\\\test_half.py'\n",
      "Check the permissions.\n",
      "\n"
     ]
    }
   ],
   "source": [
    "%pip install pandas"
   ]
  },
  {
   "cell_type": "code",
   "execution_count": 4,
   "metadata": {},
   "outputs": [
    {
     "name": "stdout",
     "output_type": "stream",
     "text": [
      "Original shape: (57650, 4)\n",
      "  artist                   song                                        link  \\\n",
      "0   ABBA  Ahe's My Kind Of Girl  /a/abba/ahes+my+kind+of+girl_20598417.html   \n",
      "1   ABBA       Andante, Andante       /a/abba/andante+andante_20002708.html   \n",
      "2   ABBA         As Good As New        /a/abba/as+good+as+new_20003033.html   \n",
      "3   ABBA                   Bang                  /a/abba/bang_20598415.html   \n",
      "4   ABBA       Bang-A-Boomerang      /a/abba/bang+a+boomerang_20002668.html   \n",
      "\n",
      "                                                text  \n",
      "0  Look at her face, it's a wonderful face  \\r\\nA...  \n",
      "1  Take it easy with me, please  \\r\\nTouch me gen...  \n",
      "2  I'll never know why I had to go  \\r\\nWhy I had...  \n",
      "3  Making somebody happy is a question of give an...  \n",
      "4  Making somebody happy is a question of give an...  \n",
      "artist    0\n",
      "song      0\n",
      "link      0\n",
      "text      0\n",
      "dtype: int64\n",
      "Reduced shape: (10000, 4)\n",
      "             artist                       song  \\\n",
      "56679  Wishbone Ash             Right Or Wrong   \n",
      "224       Aerosmith  This Little Light Of Mine   \n",
      "32457  Fall Out Boy               Dance, Dance   \n",
      "9167   Janis Joplin                 Easy Rider   \n",
      "13270   Moody Blues                  Peak Hour   \n",
      "\n",
      "                                                    link  \\\n",
      "56679       /w/wishbone+ash/right+or+wrong_20147150.html   \n",
      "224    /a/aerosmith/this+little+light+of+mine_2064448...   \n",
      "32457          /f/fall+out+boy/dance+dance_10113666.html   \n",
      "9167            /j/janis+joplin/easy+rider_10147381.html   \n",
      "13270             /m/moody+blues/peak+hour_20291295.html   \n",
      "\n",
      "                                                    text  \n",
      "56679  Like to have you 'round  \\r\\nWith all the lies...  \n",
      "224    This Little Light of Mine (Light of Mine),  \\r...  \n",
      "32457  She says she's no good with words but I'm wors...  \n",
      "9167   Hey mama, mama, come a look at sister,  \\r\\nSh...  \n",
      "13270  I see it all through my window it seems.  \\r\\n...  \n"
     ]
    }
   ],
   "source": [
    "import pandas as pd\n",
    "\n",
    "# Load the data\n",
    "df = pd.read_csv('kaggle_spotify_training_set/spotify_millsongdata.csv')\n",
    "\n",
    "# Display the shape, head, and check for null values\n",
    "print(\"Original shape:\", df.shape)\n",
    "print(df.head())\n",
    "print(df.isnull().sum())\n",
    "\n",
    "# Randomly sample 10,000 rows, 'random_state' ensures reproducibility\n",
    "df_sampled = df.sample(n=10000, random_state=42)\n",
    "\n",
    "# Display the shape and head of the reduced dataset\n",
    "print(\"Reduced shape:\", df_sampled.shape)\n",
    "print(df_sampled.head())\n"
   ]
  },
  {
   "cell_type": "code",
   "execution_count": 5,
   "metadata": {},
   "outputs": [],
   "source": [
    "# Randomly sample 10,000 rows\n",
    "df_sampled = df.sample(n=10000, random_state=42)\n",
    "\n",
    "# Save the sampled data to a new CSV file\n",
    "df_sampled.to_csv('spotify_10000_sample.csv', index=False)\n"
   ]
  },
  {
   "cell_type": "code",
   "execution_count": 6,
   "metadata": {},
   "outputs": [
    {
     "data": {
      "text/html": [
       "<div>\n",
       "<style scoped>\n",
       "    .dataframe tbody tr th:only-of-type {\n",
       "        vertical-align: middle;\n",
       "    }\n",
       "\n",
       "    .dataframe tbody tr th {\n",
       "        vertical-align: top;\n",
       "    }\n",
       "\n",
       "    .dataframe thead th {\n",
       "        text-align: right;\n",
       "    }\n",
       "</style>\n",
       "<table border=\"1\" class=\"dataframe\">\n",
       "  <thead>\n",
       "    <tr style=\"text-align: right;\">\n",
       "      <th></th>\n",
       "      <th>artist</th>\n",
       "      <th>song</th>\n",
       "      <th>link</th>\n",
       "      <th>text</th>\n",
       "    </tr>\n",
       "  </thead>\n",
       "  <tbody>\n",
       "    <tr>\n",
       "      <th>0</th>\n",
       "      <td>Wishbone Ash</td>\n",
       "      <td>Right Or Wrong</td>\n",
       "      <td>/w/wishbone+ash/right+or+wrong_20147150.html</td>\n",
       "      <td>Like to have you 'round  \\r\\nWith all the lies...</td>\n",
       "    </tr>\n",
       "    <tr>\n",
       "      <th>1</th>\n",
       "      <td>Aerosmith</td>\n",
       "      <td>This Little Light Of Mine</td>\n",
       "      <td>/a/aerosmith/this+little+light+of+mine_2064448...</td>\n",
       "      <td>This Little Light of Mine (Light of Mine),  \\r...</td>\n",
       "    </tr>\n",
       "    <tr>\n",
       "      <th>2</th>\n",
       "      <td>Fall Out Boy</td>\n",
       "      <td>Dance, Dance</td>\n",
       "      <td>/f/fall+out+boy/dance+dance_10113666.html</td>\n",
       "      <td>She says she's no good with words but I'm wors...</td>\n",
       "    </tr>\n",
       "    <tr>\n",
       "      <th>3</th>\n",
       "      <td>Janis Joplin</td>\n",
       "      <td>Easy Rider</td>\n",
       "      <td>/j/janis+joplin/easy+rider_10147381.html</td>\n",
       "      <td>Hey mama, mama, come a look at sister,  \\r\\nSh...</td>\n",
       "    </tr>\n",
       "    <tr>\n",
       "      <th>4</th>\n",
       "      <td>Moody Blues</td>\n",
       "      <td>Peak Hour</td>\n",
       "      <td>/m/moody+blues/peak+hour_20291295.html</td>\n",
       "      <td>I see it all through my window it seems.  \\r\\n...</td>\n",
       "    </tr>\n",
       "  </tbody>\n",
       "</table>\n",
       "</div>"
      ],
      "text/plain": [
       "         artist                       song  \\\n",
       "0  Wishbone Ash             Right Or Wrong   \n",
       "1     Aerosmith  This Little Light Of Mine   \n",
       "2  Fall Out Boy               Dance, Dance   \n",
       "3  Janis Joplin                 Easy Rider   \n",
       "4   Moody Blues                  Peak Hour   \n",
       "\n",
       "                                                link  \\\n",
       "0       /w/wishbone+ash/right+or+wrong_20147150.html   \n",
       "1  /a/aerosmith/this+little+light+of+mine_2064448...   \n",
       "2          /f/fall+out+boy/dance+dance_10113666.html   \n",
       "3           /j/janis+joplin/easy+rider_10147381.html   \n",
       "4             /m/moody+blues/peak+hour_20291295.html   \n",
       "\n",
       "                                                text  \n",
       "0  Like to have you 'round  \\r\\nWith all the lies...  \n",
       "1  This Little Light of Mine (Light of Mine),  \\r...  \n",
       "2  She says she's no good with words but I'm wors...  \n",
       "3  Hey mama, mama, come a look at sister,  \\r\\nSh...  \n",
       "4  I see it all through my window it seems.  \\r\\n...  "
      ]
     },
     "execution_count": 6,
     "metadata": {},
     "output_type": "execute_result"
    }
   ],
   "source": [
    "# Load the data\n",
    "df = pd.read_csv('kaggle_spotify_training_set/spotify_10000_sample.csv')\n",
    "\n",
    "#we will get the shape, display the dataframe(first items(head)) and see if there is any null values.\n",
    "df.shape\n",
    "df.head()\n",
    "#df.isnull().sum()"
   ]
  },
  {
   "cell_type": "code",
   "execution_count": 7,
   "metadata": {},
   "outputs": [
    {
     "data": {
      "text/plain": [
       "(10000, 3)"
      ]
     },
     "execution_count": 7,
     "metadata": {},
     "output_type": "execute_result"
    }
   ],
   "source": [
    "#we will drop the link column as it is not useful for our analysis coze we only need the artist, song and text(lyrics)\n",
    "df = df.drop(['link'], axis=1).reset_index(drop=True)\n",
    "df.shape"
   ]
  },
  {
   "cell_type": "code",
   "execution_count": 8,
   "metadata": {},
   "outputs": [
    {
     "data": {
      "text/html": [
       "<div>\n",
       "<style scoped>\n",
       "    .dataframe tbody tr th:only-of-type {\n",
       "        vertical-align: middle;\n",
       "    }\n",
       "\n",
       "    .dataframe tbody tr th {\n",
       "        vertical-align: top;\n",
       "    }\n",
       "\n",
       "    .dataframe thead th {\n",
       "        text-align: right;\n",
       "    }\n",
       "</style>\n",
       "<table border=\"1\" class=\"dataframe\">\n",
       "  <thead>\n",
       "    <tr style=\"text-align: right;\">\n",
       "      <th></th>\n",
       "      <th>artist</th>\n",
       "      <th>song</th>\n",
       "      <th>text</th>\n",
       "    </tr>\n",
       "  </thead>\n",
       "  <tbody>\n",
       "    <tr>\n",
       "      <th>0</th>\n",
       "      <td>Wishbone Ash</td>\n",
       "      <td>Right Or Wrong</td>\n",
       "      <td>like to have you 'round  \\r with all the lies ...</td>\n",
       "    </tr>\n",
       "    <tr>\n",
       "      <th>1</th>\n",
       "      <td>Aerosmith</td>\n",
       "      <td>This Little Light Of Mine</td>\n",
       "      <td>this little light of mine (light of mine),  \\r...</td>\n",
       "    </tr>\n",
       "    <tr>\n",
       "      <th>2</th>\n",
       "      <td>Fall Out Boy</td>\n",
       "      <td>Dance, Dance</td>\n",
       "      <td>she says she's no good with words but i'm wors...</td>\n",
       "    </tr>\n",
       "    <tr>\n",
       "      <th>3</th>\n",
       "      <td>Janis Joplin</td>\n",
       "      <td>Easy Rider</td>\n",
       "      <td>hey mama, mama, come a look at sister,  \\r she...</td>\n",
       "    </tr>\n",
       "    <tr>\n",
       "      <th>4</th>\n",
       "      <td>Moody Blues</td>\n",
       "      <td>Peak Hour</td>\n",
       "      <td>see it all through my window it seems.  \\r ne...</td>\n",
       "    </tr>\n",
       "    <tr>\n",
       "      <th>5</th>\n",
       "      <td>Gary Numan</td>\n",
       "      <td>Crazier</td>\n",
       "      <td>the more i take a look inside, the more i'm fr...</td>\n",
       "    </tr>\n",
       "    <tr>\n",
       "      <th>6</th>\n",
       "      <td>Pat Benatar</td>\n",
       "      <td>Temptation</td>\n",
       "      <td>we got it all but it ain't enough  \\r no, we'r...</td>\n",
       "    </tr>\n",
       "    <tr>\n",
       "      <th>7</th>\n",
       "      <td>'n Sync</td>\n",
       "      <td>Kiss Me At Midnight</td>\n",
       "      <td>kiss me at midnight  \\r 5...4...3...2...1  \\r ...</td>\n",
       "    </tr>\n",
       "    <tr>\n",
       "      <th>8</th>\n",
       "      <td>Sia</td>\n",
       "      <td>Little Black Sandals</td>\n",
       "      <td>i'm being dragged down, down by the hand  \\r t...</td>\n",
       "    </tr>\n",
       "    <tr>\n",
       "      <th>9</th>\n",
       "      <td>Hank Snow</td>\n",
       "      <td>I Keep Dreaming Of You All The Time</td>\n",
       "      <td>in my dreams an old friend came to see you  \\r...</td>\n",
       "    </tr>\n",
       "    <tr>\n",
       "      <th>10</th>\n",
       "      <td>Marianne Faithfull</td>\n",
       "      <td>Blood In My Eyes</td>\n",
       "      <td>woke up this morning, feeling blue  \\r seen a ...</td>\n",
       "    </tr>\n",
       "    <tr>\n",
       "      <th>11</th>\n",
       "      <td>Queensryche</td>\n",
       "      <td>I Am I</td>\n",
       "      <td>beating with life you promised life,  \\r secur...</td>\n",
       "    </tr>\n",
       "    <tr>\n",
       "      <th>12</th>\n",
       "      <td>Lou Reed</td>\n",
       "      <td>Hold On</td>\n",
       "      <td>there's blacks with knives and whites with gun...</td>\n",
       "    </tr>\n",
       "    <tr>\n",
       "      <th>13</th>\n",
       "      <td>Yello</td>\n",
       "      <td>Pinball Cha Cha</td>\n",
       "      <td>welcome  \\r in lucy's bar  \\r hey you gentleme...</td>\n",
       "    </tr>\n",
       "    <tr>\n",
       "      <th>14</th>\n",
       "      <td>Helloween</td>\n",
       "      <td>Kill It</td>\n",
       "      <td>i'm your maker  \\r mold your mind  \\r idea-cre...</td>\n",
       "    </tr>\n",
       "    <tr>\n",
       "      <th>15</th>\n",
       "      <td>Kyla</td>\n",
       "      <td>I Feel For You</td>\n",
       "      <td>something inside,  \\r my heart,  \\r and it fee...</td>\n",
       "    </tr>\n",
       "    <tr>\n",
       "      <th>16</th>\n",
       "      <td>O.A.R.</td>\n",
       "      <td>Dareh Meyod</td>\n",
       "      <td>tuesday's coming my baby  \\r i told you wednes...</td>\n",
       "    </tr>\n",
       "    <tr>\n",
       "      <th>17</th>\n",
       "      <td>Alabama</td>\n",
       "      <td>Right Where I Am</td>\n",
       "      <td>subways runnin' under the city  \\r condos reac...</td>\n",
       "    </tr>\n",
       "    <tr>\n",
       "      <th>18</th>\n",
       "      <td>Who</td>\n",
       "      <td>It's Hard</td>\n",
       "      <td>any tough can fight, few can play  \\r any toug...</td>\n",
       "    </tr>\n",
       "    <tr>\n",
       "      <th>19</th>\n",
       "      <td>Justin Timberlake</td>\n",
       "      <td>Hallelujah</td>\n",
       "      <td>well i heard there was a secret chord  \\r that...</td>\n",
       "    </tr>\n",
       "  </tbody>\n",
       "</table>\n",
       "</div>"
      ],
      "text/plain": [
       "                artist                                 song  \\\n",
       "0         Wishbone Ash                       Right Or Wrong   \n",
       "1            Aerosmith            This Little Light Of Mine   \n",
       "2         Fall Out Boy                         Dance, Dance   \n",
       "3         Janis Joplin                           Easy Rider   \n",
       "4          Moody Blues                            Peak Hour   \n",
       "5           Gary Numan                              Crazier   \n",
       "6          Pat Benatar                           Temptation   \n",
       "7              'n Sync                  Kiss Me At Midnight   \n",
       "8                  Sia                 Little Black Sandals   \n",
       "9            Hank Snow  I Keep Dreaming Of You All The Time   \n",
       "10  Marianne Faithfull                     Blood In My Eyes   \n",
       "11         Queensryche                               I Am I   \n",
       "12            Lou Reed                              Hold On   \n",
       "13               Yello                      Pinball Cha Cha   \n",
       "14           Helloween                              Kill It   \n",
       "15                Kyla                       I Feel For You   \n",
       "16              O.A.R.                          Dareh Meyod   \n",
       "17             Alabama                     Right Where I Am   \n",
       "18                 Who                            It's Hard   \n",
       "19   Justin Timberlake                           Hallelujah   \n",
       "\n",
       "                                                 text  \n",
       "0   like to have you 'round  \\r with all the lies ...  \n",
       "1   this little light of mine (light of mine),  \\r...  \n",
       "2   she says she's no good with words but i'm wors...  \n",
       "3   hey mama, mama, come a look at sister,  \\r she...  \n",
       "4    see it all through my window it seems.  \\r ne...  \n",
       "5   the more i take a look inside, the more i'm fr...  \n",
       "6   we got it all but it ain't enough  \\r no, we'r...  \n",
       "7   kiss me at midnight  \\r 5...4...3...2...1  \\r ...  \n",
       "8   i'm being dragged down, down by the hand  \\r t...  \n",
       "9   in my dreams an old friend came to see you  \\r...  \n",
       "10  woke up this morning, feeling blue  \\r seen a ...  \n",
       "11  beating with life you promised life,  \\r secur...  \n",
       "12  there's blacks with knives and whites with gun...  \n",
       "13  welcome  \\r in lucy's bar  \\r hey you gentleme...  \n",
       "14  i'm your maker  \\r mold your mind  \\r idea-cre...  \n",
       "15  something inside,  \\r my heart,  \\r and it fee...  \n",
       "16  tuesday's coming my baby  \\r i told you wednes...  \n",
       "17  subways runnin' under the city  \\r condos reac...  \n",
       "18  any tough can fight, few can play  \\r any toug...  \n",
       "19  well i heard there was a secret chord  \\r that...  "
      ]
     },
     "execution_count": 8,
     "metadata": {},
     "output_type": "execute_result"
    }
   ],
   "source": [
    "df['text'] = df['text'].str.lower().replace(r'^\\w\\s', ' ', regex=True).replace(r'\\n', ' ', regex=True)\n",
    "df.head(20)"
   ]
  },
  {
   "cell_type": "code",
   "execution_count": 9,
   "metadata": {},
   "outputs": [
    {
     "name": "stdout",
     "output_type": "stream",
     "text": [
      "Collecting nltk\n",
      "  Using cached nltk-3.9.1-py3-none-any.whl.metadata (2.9 kB)\n",
      "Requirement already satisfied: click in c:\\users\\hp\\onedrive\\documents\\audiojam-1\\audiojam-spotify\\audiojam-env\\lib\\site-packages (from nltk) (8.1.7)\n",
      "Collecting joblib (from nltk)\n",
      "  Using cached joblib-1.4.2-py3-none-any.whl.metadata (5.4 kB)\n",
      "Collecting regex>=2021.8.3 (from nltk)\n",
      "  Using cached regex-2024.9.11-cp312-cp312-win_amd64.whl.metadata (41 kB)\n",
      "Collecting tqdm (from nltk)\n",
      "  Using cached tqdm-4.66.5-py3-none-any.whl.metadata (57 kB)\n",
      "Requirement already satisfied: colorama in c:\\users\\hp\\onedrive\\documents\\audiojam-1\\audiojam-spotify\\audiojam-env\\lib\\site-packages (from click->nltk) (0.4.6)\n",
      "Using cached nltk-3.9.1-py3-none-any.whl (1.5 MB)\n",
      "Using cached regex-2024.9.11-cp312-cp312-win_amd64.whl (273 kB)\n",
      "Using cached joblib-1.4.2-py3-none-any.whl (301 kB)\n",
      "Using cached tqdm-4.66.5-py3-none-any.whl (78 kB)\n",
      "Installing collected packages: tqdm, regex, joblib, nltk\n",
      "Successfully installed joblib-1.4.2 nltk-3.9.1 regex-2024.9.11 tqdm-4.66.5\n",
      "Note: you may need to restart the kernel to use updated packages.\n"
     ]
    }
   ],
   "source": [
    "%pip install nltk"
   ]
  },
  {
   "cell_type": "code",
   "execution_count": 10,
   "metadata": {},
   "outputs": [
    {
     "name": "stdout",
     "output_type": "stream",
     "text": [
      "i love your beauti , beauti and love face that full of love\n",
      "will you be my lover , babe as my love for you is endless , even if you are not beauti , babi , i promis to be a love husband\n",
      "i am a lover of beauti and love , beauti thing\n"
     ]
    }
   ],
   "source": [
    "import nltk\n",
    "from nltk.tokenize import TreebankWordTokenizer\n",
    "from nltk.stem import PorterStemmer\n",
    "\n",
    "# Create instances\n",
    "tokenizer = TreebankWordTokenizer()\n",
    "stemmer = PorterStemmer()\n",
    "\n",
    "# Define the tokenize method\n",
    "def tokenize(txt):\n",
    "    tokens = tokenizer.tokenize(txt)\n",
    "    # Use the stemmer to stem each token\n",
    "    stemmed = [stemmer.stem(t) for t in tokens]\n",
    "    return \" \".join(stemmed)\n",
    "\n",
    "# Test the tokenize method\n",
    "print(tokenize(\"I love your beautiful, beauty and lovely face thats full of love\"))\n",
    "print(tokenize(\"will you be my lover, babe as my love for you is endless, even if you are not beautiful, baby, i promise to be a lovely husband\"))\n",
    "print(tokenize(\"I am a lover of beauty and lovely, beautiful things\"))"
   ]
  },
  {
   "cell_type": "code",
   "execution_count": 11,
   "metadata": {},
   "outputs": [
    {
     "name": "stdout",
     "output_type": "stream",
     "text": [
      "Collecting scikit-learn\n",
      "  Using cached scikit_learn-1.5.2-cp312-cp312-win_amd64.whl.metadata (13 kB)\n",
      "Requirement already satisfied: numpy>=1.19.5 in c:\\users\\hp\\onedrive\\documents\\audiojam-1\\audiojam-spotify\\audiojam-env\\lib\\site-packages (from scikit-learn) (2.1.2)\n",
      "Collecting scipy>=1.6.0 (from scikit-learn)\n",
      "  Using cached scipy-1.14.1-cp312-cp312-win_amd64.whl.metadata (60 kB)\n",
      "Requirement already satisfied: joblib>=1.2.0 in c:\\users\\hp\\onedrive\\documents\\audiojam-1\\audiojam-spotify\\audiojam-env\\lib\\site-packages (from scikit-learn) (1.4.2)\n",
      "Collecting threadpoolctl>=3.1.0 (from scikit-learn)\n",
      "  Using cached threadpoolctl-3.5.0-py3-none-any.whl.metadata (13 kB)\n",
      "Using cached scikit_learn-1.5.2-cp312-cp312-win_amd64.whl (11.0 MB)\n",
      "Using cached scipy-1.14.1-cp312-cp312-win_amd64.whl (44.5 MB)\n",
      "Using cached threadpoolctl-3.5.0-py3-none-any.whl (18 kB)\n",
      "Installing collected packages: threadpoolctl, scipy, scikit-learn\n",
      "Successfully installed scikit-learn-1.5.2 scipy-1.14.1 threadpoolctl-3.5.0\n",
      "Note: you may need to restart the kernel to use updated packages.\n"
     ]
    }
   ],
   "source": [
    "%pip install scikit-learn"
   ]
  },
  {
   "cell_type": "code",
   "execution_count": 12,
   "metadata": {},
   "outputs": [
    {
     "data": {
      "text/plain": [
       "0       like to have you 'round with all the lie that ...\n",
       "1       thi littl light of mine ( light of mine ) , i ...\n",
       "2       she say she 's no good with word but i 'm wors...\n",
       "3       hey mama , mama , come a look at sister , she ...\n",
       "4       see it all through my window it seems. never f...\n",
       "                              ...                        \n",
       "9995    you know i 'm hotblood , babi ... get on up an...\n",
       "9996    you 're the end of the rainbow , my pot of gol...\n",
       "9997    artist : raw theme lyric song : across the nat...\n",
       "9998    wonder who 's sleep in your sheet tonight whos...\n",
       "9999    when you 're drive down the highway at night a...\n",
       "Name: text, Length: 10000, dtype: object"
      ]
     },
     "execution_count": 12,
     "metadata": {},
     "output_type": "execute_result"
    }
   ],
   "source": [
    "df['text'].apply(lambda x: tokenize(x))"
   ]
  },
  {
   "cell_type": "code",
   "execution_count": 13,
   "metadata": {},
   "outputs": [],
   "source": [
    "from sklearn.feature_extraction.text import TfidfVectorizer\n",
    "from sklearn.metrics.pairwise import cosine_similarity"
   ]
  },
  {
   "cell_type": "code",
   "execution_count": 14,
   "metadata": {},
   "outputs": [
    {
     "data": {
      "text/plain": [
       "array([1.        , 0.        , 0.03279269, ..., 0.01386178, 0.02599556,\n",
       "       0.04989338])"
      ]
     },
     "execution_count": 14,
     "metadata": {},
     "output_type": "execute_result"
    }
   ],
   "source": [
    "# Create a TfidfVectorizer instance\n",
    "vectorizer = TfidfVectorizer(analyzer='word', stop_words='english')\n",
    "\n",
    "# Transform the text (lyrics) into a matrix\n",
    "lyrics_matrix = vectorizer.fit_transform(df['text'])\n",
    "\n",
    "# Calculate the cosine similarity between the lyrics\n",
    "cosine_sim = cosine_similarity(lyrics_matrix)\n",
    "cosine_sim[0]"
   ]
  },
  {
   "cell_type": "code",
   "execution_count": 15,
   "metadata": {},
   "outputs": [
    {
     "data": {
      "text/html": [
       "<div>\n",
       "<style scoped>\n",
       "    .dataframe tbody tr th:only-of-type {\n",
       "        vertical-align: middle;\n",
       "    }\n",
       "\n",
       "    .dataframe tbody tr th {\n",
       "        vertical-align: top;\n",
       "    }\n",
       "\n",
       "    .dataframe thead th {\n",
       "        text-align: right;\n",
       "    }\n",
       "</style>\n",
       "<table border=\"1\" class=\"dataframe\">\n",
       "  <thead>\n",
       "    <tr style=\"text-align: right;\">\n",
       "      <th></th>\n",
       "      <th>artist</th>\n",
       "      <th>song</th>\n",
       "      <th>text</th>\n",
       "    </tr>\n",
       "  </thead>\n",
       "  <tbody>\n",
       "    <tr>\n",
       "      <th>12</th>\n",
       "      <td>Lou Reed</td>\n",
       "      <td>Hold On</td>\n",
       "      <td>there's blacks with knives and whites with gun...</td>\n",
       "    </tr>\n",
       "    <tr>\n",
       "      <th>1204</th>\n",
       "      <td>Selah</td>\n",
       "      <td>Hold On</td>\n",
       "      <td>if you feel today that you can't make it  \\r k...</td>\n",
       "    </tr>\n",
       "    <tr>\n",
       "      <th>4424</th>\n",
       "      <td>Reba Mcentire</td>\n",
       "      <td>Hold On</td>\n",
       "      <td>hold on cause this feels just like a first lov...</td>\n",
       "    </tr>\n",
       "    <tr>\n",
       "      <th>8875</th>\n",
       "      <td>Deep Purple</td>\n",
       "      <td>Hold On</td>\n",
       "      <td>you're sweeter than the morning  \\r when the s...</td>\n",
       "    </tr>\n",
       "    <tr>\n",
       "      <th>9246</th>\n",
       "      <td>Pearl Jam</td>\n",
       "      <td>Hold On</td>\n",
       "      <td>was doom riding on top a black horse  \\r what...</td>\n",
       "    </tr>\n",
       "  </tbody>\n",
       "</table>\n",
       "</div>"
      ],
      "text/plain": [
       "             artist     song  \\\n",
       "12         Lou Reed  Hold On   \n",
       "1204          Selah  Hold On   \n",
       "4424  Reba Mcentire  Hold On   \n",
       "8875    Deep Purple  Hold On   \n",
       "9246      Pearl Jam  Hold On   \n",
       "\n",
       "                                                   text  \n",
       "12    there's blacks with knives and whites with gun...  \n",
       "1204  if you feel today that you can't make it  \\r k...  \n",
       "4424  hold on cause this feels just like a first lov...  \n",
       "8875  you're sweeter than the morning  \\r when the s...  \n",
       "9246   was doom riding on top a black horse  \\r what...  "
      ]
     },
     "execution_count": 15,
     "metadata": {},
     "output_type": "execute_result"
    }
   ],
   "source": [
    "df[df['song'] == 'Hold On']"
   ]
  },
  {
   "cell_type": "code",
   "execution_count": 16,
   "metadata": {},
   "outputs": [],
   "source": [
    "def recommendation(song_df):\n",
    "    idx = df[df['song'] == song_df].index[0]\n",
    "    distances = sorted(list(enumerate(cosine_sim[idx])),reverse=True,key=lambda x:x[1])\n",
    "    \n",
    "    songs = []\n",
    "    for m_id in distances[1:21]:\n",
    "        songs.append(df.iloc[m_id[0]].song)\n",
    "        \n",
    "    return songs"
   ]
  },
  {
   "cell_type": "code",
   "execution_count": 18,
   "metadata": {},
   "outputs": [
    {
     "data": {
      "text/plain": [
       "[\"There's Nothing Better Than Love\",\n",
       " 'I Want To Know What Love Is',\n",
       " 'Only Love',\n",
       " 'Heart And Soul',\n",
       " 'Anyone Who Had A Heart',\n",
       " 'I Love You Too Much',\n",
       " 'Soul Of My Soul',\n",
       " 'Our Love',\n",
       " 'Love Them Girls',\n",
       " 'Until The End Of Time',\n",
       " 'By Love I Mean',\n",
       " 'When I Fall In Love',\n",
       " 'Love Who You Love',\n",
       " 'I Do Love You',\n",
       " 'Love Song',\n",
       " 'Big Love, Big Heartache',\n",
       " 'I Feel For You',\n",
       " \"Love Never Broke Anyone's Heart\",\n",
       " 'My Heart Will Go On',\n",
       " \"I'm In Love\"]"
      ]
     },
     "execution_count": 18,
     "metadata": {},
     "output_type": "execute_result"
    }
   ],
   "source": [
    "recommendation('I Feel For You')"
   ]
  },
  {
   "cell_type": "code",
   "execution_count": 19,
   "metadata": {},
   "outputs": [],
   "source": [
    "import pickle\n",
    "pickle.dump(cosine_sim,open('similarity.pkl','wb'))\n",
    "pickle.dump(df,open('df.pkl','wb'))"
   ]
  }
 ],
 "metadata": {
  "kernelspec": {
   "display_name": "audiojam_kernel",
   "language": "python",
   "name": "audiojam_kernel"
  },
  "language_info": {
   "codemirror_mode": {
    "name": "ipython",
    "version": 3
   },
   "file_extension": ".py",
   "mimetype": "text/x-python",
   "name": "python",
   "nbconvert_exporter": "python",
   "pygments_lexer": "ipython3",
   "version": "3.12.2"
  }
 },
 "nbformat": 4,
 "nbformat_minor": 2
}
